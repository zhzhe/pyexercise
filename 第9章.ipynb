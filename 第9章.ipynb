{
 "cells": [
  {
   "cell_type": "code",
   "execution_count": 2,
   "metadata": {},
   "outputs": [
    {
     "name": "stdout",
     "output_type": "stream",
     "text": [
      "My Dog's name is Willie.\n",
      "My dog is 6 age years old.\n",
      "Willie is now sitting.\n",
      "Willie rolled over.\n"
     ]
    }
   ],
   "source": [
    "#9.1 \n",
    "class Dog:\n",
    "    \"\"\"一次模拟小狗的简单尝试\"\"\"\n",
    "\n",
    "    def __init__(self, name, age ):\n",
    "        \"\"\"初始化属性name 和 age \"\"\"\n",
    "        self.name = name\n",
    "        self.age = age \n",
    "    \n",
    "    def sit(self):\n",
    "        \"\"\"模拟小狗收到命令时坐下\"\"\"\n",
    "        print(f\"{self.name} is now sitting.\")\n",
    "\n",
    "    def roll_over(self):\n",
    "        \"\"\"模拟小狗收到命令时打滚\"\"\"\n",
    "        print(f\"{self.name} rolled over.\")\n",
    "\n",
    "my_dog = Dog('Willie', 6)\n",
    "print(f\"My Dog's name is {my_dog.name}.\")\n",
    "print(f\"My dog is {my_dog.age} age years old.\")\n",
    "my_dog.sit()\n",
    "my_dog.roll_over()\n"
   ]
  }
 ],
 "metadata": {
  "kernelspec": {
   "display_name": "py38",
   "language": "python",
   "name": "python3"
  },
  "language_info": {
   "codemirror_mode": {
    "name": "ipython",
    "version": 3
   },
   "file_extension": ".py",
   "mimetype": "text/x-python",
   "name": "python",
   "nbconvert_exporter": "python",
   "pygments_lexer": "ipython3",
   "version": "3.8.18"
  }
 },
 "nbformat": 4,
 "nbformat_minor": 2
}
